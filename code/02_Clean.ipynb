{
 "cells": [
  {
   "cell_type": "markdown",
   "metadata": {},
   "source": [
    "# Reddit Project - 02: NLP - Data cleaning\n",
    "***"
   ]
  },
  {
   "cell_type": "markdown",
   "metadata": {},
   "source": [
    "## Import Packages"
   ]
  },
  {
   "cell_type": "code",
   "execution_count": 1223,
   "metadata": {},
   "outputs": [],
   "source": [
    "import numpy as np\n",
    "import pandas as pd\n",
    "import seaborn as sns\n",
    "import nltk\n",
    "from nltk.corpus import stopwords\n",
    "from nltk.stem import WordNetLemmatizer\n",
    "from nltk.tokenize import RegexpTokenizer\n",
    "from nltk.sentiment.vader import SentimentIntensityAnalyzer\n",
    "from sklearn.feature_extraction.text import CountVectorizer\n",
    "import regex as reg\n",
    "import re\n",
    "from scipy.stats import ttest_ind\n",
    "import matplotlib.pyplot as plt\n",
    "\n",
    "%matplotlib inline"
   ]
  },
  {
   "cell_type": "markdown",
   "metadata": {},
   "source": [
    "### Convert the 10 'Spirituality' JSON files into pandas dataframes"
   ]
  },
  {
   "cell_type": "code",
   "execution_count": 968,
   "metadata": {},
   "outputs": [],
   "source": [
    "spir_1 = pd.read_json('../data/spir1.json')\n",
    "spir_2 = pd.read_json('../data/spir2.json')\n",
    "spir_3 = pd.read_json('../data/spir3.json')\n",
    "spir_4 = pd.read_json('../data/spir4.json')\n",
    "spir_5 = pd.read_json('../data/spir5.json')\n",
    "spir_6 = pd.read_json('../data/spir6.json')\n",
    "spir_7 = pd.read_json('../data/spir7.json')\n",
    "spir_8 = pd.read_json('../data/spir8.json')\n",
    "spir_9 = pd.read_json('../data/spir9.json')\n",
    "spir_10 = pd.read_json('../data/spir10.json')"
   ]
  },
  {
   "cell_type": "markdown",
   "metadata": {},
   "source": [
    "### Concatenate all 10 spirituality dataframes into 1 dataframe"
   ]
  },
  {
   "cell_type": "code",
   "execution_count": 969,
   "metadata": {},
   "outputs": [
    {
     "name": "stderr",
     "output_type": "stream",
     "text": [
      "/opt/anaconda3/lib/python3.7/site-packages/ipykernel_launcher.py:1: FutureWarning: Sorting because non-concatenation axis is not aligned. A future version\n",
      "of pandas will change to not sort by default.\n",
      "\n",
      "To accept the future behavior, pass 'sort=False'.\n",
      "\n",
      "To retain the current behavior and silence the warning, pass 'sort=True'.\n",
      "\n",
      "  \"\"\"Entry point for launching an IPython kernel.\n"
     ]
    }
   ],
   "source": [
    "spr = pd.concat([spir_1, spir_2, spir_3, spir_4, spir_5, spir_6, spir_7, spir_8, spir_9, spir_10], ignore_index=True)"
   ]
  },
  {
   "cell_type": "markdown",
   "metadata": {},
   "source": [
    "### Combine spr title and selftext"
   ]
  },
  {
   "cell_type": "code",
   "execution_count": 970,
   "metadata": {},
   "outputs": [],
   "source": [
    "spr = spr['title'] + spr['selftext']"
   ]
  },
  {
   "cell_type": "markdown",
   "metadata": {},
   "source": [
    "### Make spr a pandas dataframe again"
   ]
  },
  {
   "cell_type": "code",
   "execution_count": 971,
   "metadata": {},
   "outputs": [],
   "source": [
    "spr = pd.DataFrame(spr)"
   ]
  },
  {
   "cell_type": "markdown",
   "metadata": {},
   "source": [
    "### Change column name to 'text'"
   ]
  },
  {
   "cell_type": "code",
   "execution_count": 972,
   "metadata": {},
   "outputs": [],
   "source": [
    "spr.columns = ['text']"
   ]
  },
  {
   "cell_type": "code",
   "execution_count": 973,
   "metadata": {},
   "outputs": [
    {
     "data": {
      "text/html": [
       "<div>\n",
       "<style scoped>\n",
       "    .dataframe tbody tr th:only-of-type {\n",
       "        vertical-align: middle;\n",
       "    }\n",
       "\n",
       "    .dataframe tbody tr th {\n",
       "        vertical-align: top;\n",
       "    }\n",
       "\n",
       "    .dataframe thead th {\n",
       "        text-align: right;\n",
       "    }\n",
       "</style>\n",
       "<table border=\"1\" class=\"dataframe\">\n",
       "  <thead>\n",
       "    <tr style=\"text-align: right;\">\n",
       "      <th></th>\n",
       "      <th>text</th>\n",
       "    </tr>\n",
       "  </thead>\n",
       "  <tbody>\n",
       "    <tr>\n",
       "      <th>0</th>\n",
       "      <td>Soul TribeJust trying to find my spiritual fam...</td>\n",
       "    </tr>\n",
       "    <tr>\n",
       "      <th>1</th>\n",
       "      <td>THE JOURNEY TO LIFES RICHES BEGAN BY MAKING YO...</td>\n",
       "    </tr>\n",
       "    <tr>\n",
       "      <th>2</th>\n",
       "      <td>Spiritual awakening &amp;amp; relationshipsHi, I'm...</td>\n",
       "    </tr>\n",
       "    <tr>\n",
       "      <th>3</th>\n",
       "      <td>SpartacusIn one of my visions I am in a Ludus ...</td>\n",
       "    </tr>\n",
       "    <tr>\n",
       "      <th>4</th>\n",
       "      <td>Mixing \"dreams\" with \"realities\"?I often find ...</td>\n",
       "    </tr>\n",
       "    <tr>\n",
       "      <th>...</th>\n",
       "      <td>...</td>\n",
       "    </tr>\n",
       "    <tr>\n",
       "      <th>9995</th>\n",
       "      <td>We aren't programs. Programs are a replica of ...</td>\n",
       "    </tr>\n",
       "    <tr>\n",
       "      <th>9996</th>\n",
       "      <td>In This New Year of 2020, I have been doing qu...</td>\n",
       "    </tr>\n",
       "    <tr>\n",
       "      <th>9997</th>\n",
       "      <td>Does anyone know about the trees and talks to ...</td>\n",
       "    </tr>\n",
       "    <tr>\n",
       "      <th>9998</th>\n",
       "      <td>I am big into spirituality and manifested myse...</td>\n",
       "    </tr>\n",
       "    <tr>\n",
       "      <th>9999</th>\n",
       "      <td>Avoiding Thought - We have to admit it, we fuc...</td>\n",
       "    </tr>\n",
       "  </tbody>\n",
       "</table>\n",
       "<p>10000 rows × 1 columns</p>\n",
       "</div>"
      ],
      "text/plain": [
       "                                                   text\n",
       "0     Soul TribeJust trying to find my spiritual fam...\n",
       "1     THE JOURNEY TO LIFES RICHES BEGAN BY MAKING YO...\n",
       "2     Spiritual awakening &amp; relationshipsHi, I'm...\n",
       "3     SpartacusIn one of my visions I am in a Ludus ...\n",
       "4     Mixing \"dreams\" with \"realities\"?I often find ...\n",
       "...                                                 ...\n",
       "9995  We aren't programs. Programs are a replica of ...\n",
       "9996  In This New Year of 2020, I have been doing qu...\n",
       "9997  Does anyone know about the trees and talks to ...\n",
       "9998  I am big into spirituality and manifested myse...\n",
       "9999  Avoiding Thought - We have to admit it, we fuc...\n",
       "\n",
       "[10000 rows x 1 columns]"
      ]
     },
     "execution_count": 973,
     "metadata": {},
     "output_type": "execute_result"
    }
   ],
   "source": [
    "spr"
   ]
  },
  {
   "cell_type": "markdown",
   "metadata": {},
   "source": [
    "### Add a binomial class column and set all spr rows to 1"
   ]
  },
  {
   "cell_type": "code",
   "execution_count": 974,
   "metadata": {},
   "outputs": [],
   "source": [
    "spr['class_'] = 1"
   ]
  },
  {
   "cell_type": "code",
   "execution_count": 975,
   "metadata": {},
   "outputs": [
    {
     "data": {
      "text/html": [
       "<div>\n",
       "<style scoped>\n",
       "    .dataframe tbody tr th:only-of-type {\n",
       "        vertical-align: middle;\n",
       "    }\n",
       "\n",
       "    .dataframe tbody tr th {\n",
       "        vertical-align: top;\n",
       "    }\n",
       "\n",
       "    .dataframe thead th {\n",
       "        text-align: right;\n",
       "    }\n",
       "</style>\n",
       "<table border=\"1\" class=\"dataframe\">\n",
       "  <thead>\n",
       "    <tr style=\"text-align: right;\">\n",
       "      <th></th>\n",
       "      <th>text</th>\n",
       "      <th>class_</th>\n",
       "    </tr>\n",
       "  </thead>\n",
       "  <tbody>\n",
       "    <tr>\n",
       "      <th>0</th>\n",
       "      <td>Soul TribeJust trying to find my spiritual fam...</td>\n",
       "      <td>1</td>\n",
       "    </tr>\n",
       "    <tr>\n",
       "      <th>1</th>\n",
       "      <td>THE JOURNEY TO LIFES RICHES BEGAN BY MAKING YO...</td>\n",
       "      <td>1</td>\n",
       "    </tr>\n",
       "    <tr>\n",
       "      <th>2</th>\n",
       "      <td>Spiritual awakening &amp;amp; relationshipsHi, I'm...</td>\n",
       "      <td>1</td>\n",
       "    </tr>\n",
       "    <tr>\n",
       "      <th>3</th>\n",
       "      <td>SpartacusIn one of my visions I am in a Ludus ...</td>\n",
       "      <td>1</td>\n",
       "    </tr>\n",
       "    <tr>\n",
       "      <th>4</th>\n",
       "      <td>Mixing \"dreams\" with \"realities\"?I often find ...</td>\n",
       "      <td>1</td>\n",
       "    </tr>\n",
       "    <tr>\n",
       "      <th>...</th>\n",
       "      <td>...</td>\n",
       "      <td>...</td>\n",
       "    </tr>\n",
       "    <tr>\n",
       "      <th>9995</th>\n",
       "      <td>We aren't programs. Programs are a replica of ...</td>\n",
       "      <td>1</td>\n",
       "    </tr>\n",
       "    <tr>\n",
       "      <th>9996</th>\n",
       "      <td>In This New Year of 2020, I have been doing qu...</td>\n",
       "      <td>1</td>\n",
       "    </tr>\n",
       "    <tr>\n",
       "      <th>9997</th>\n",
       "      <td>Does anyone know about the trees and talks to ...</td>\n",
       "      <td>1</td>\n",
       "    </tr>\n",
       "    <tr>\n",
       "      <th>9998</th>\n",
       "      <td>I am big into spirituality and manifested myse...</td>\n",
       "      <td>1</td>\n",
       "    </tr>\n",
       "    <tr>\n",
       "      <th>9999</th>\n",
       "      <td>Avoiding Thought - We have to admit it, we fuc...</td>\n",
       "      <td>1</td>\n",
       "    </tr>\n",
       "  </tbody>\n",
       "</table>\n",
       "<p>10000 rows × 2 columns</p>\n",
       "</div>"
      ],
      "text/plain": [
       "                                                   text  class_\n",
       "0     Soul TribeJust trying to find my spiritual fam...       1\n",
       "1     THE JOURNEY TO LIFES RICHES BEGAN BY MAKING YO...       1\n",
       "2     Spiritual awakening &amp; relationshipsHi, I'm...       1\n",
       "3     SpartacusIn one of my visions I am in a Ludus ...       1\n",
       "4     Mixing \"dreams\" with \"realities\"?I often find ...       1\n",
       "...                                                 ...     ...\n",
       "9995  We aren't programs. Programs are a replica of ...       1\n",
       "9996  In This New Year of 2020, I have been doing qu...       1\n",
       "9997  Does anyone know about the trees and talks to ...       1\n",
       "9998  I am big into spirituality and manifested myse...       1\n",
       "9999  Avoiding Thought - We have to admit it, we fuc...       1\n",
       "\n",
       "[10000 rows x 2 columns]"
      ]
     },
     "execution_count": 975,
     "metadata": {},
     "output_type": "execute_result"
    }
   ],
   "source": [
    "spr"
   ]
  },
  {
   "cell_type": "markdown",
   "metadata": {},
   "source": [
    "### Convert 'meditation' JSON files into pandas dataframes"
   ]
  },
  {
   "cell_type": "code",
   "execution_count": 976,
   "metadata": {},
   "outputs": [],
   "source": [
    "med_1 = pd.read_json('../data/med1.json')\n",
    "med_2 = pd.read_json('../data/med2.json')\n",
    "med_3 = pd.read_json('../data/med3.json')\n",
    "med_4 = pd.read_json('../data/med4.json')\n",
    "med_5 = pd.read_json('../data/med5.json')\n",
    "med_6 = pd.read_json('../data/med6.json')\n",
    "med_7 = pd.read_json('../data/med7.json')\n",
    "med_8 = pd.read_json('../data/med8.json')\n",
    "med_9 = pd.read_json('../data/med9.json')\n",
    "med_10 = pd.read_json('../data/med10.json')"
   ]
  },
  {
   "cell_type": "markdown",
   "metadata": {},
   "source": [
    "### Concatenate all 10 meditation dataframes into 1 dataframe"
   ]
  },
  {
   "cell_type": "code",
   "execution_count": 977,
   "metadata": {},
   "outputs": [
    {
     "name": "stderr",
     "output_type": "stream",
     "text": [
      "/opt/anaconda3/lib/python3.7/site-packages/ipykernel_launcher.py:1: FutureWarning: Sorting because non-concatenation axis is not aligned. A future version\n",
      "of pandas will change to not sort by default.\n",
      "\n",
      "To accept the future behavior, pass 'sort=False'.\n",
      "\n",
      "To retain the current behavior and silence the warning, pass 'sort=True'.\n",
      "\n",
      "  \"\"\"Entry point for launching an IPython kernel.\n"
     ]
    }
   ],
   "source": [
    "med = pd.concat([med_1, med_2, med_3, med_4, med_5, med_6, med_7, med_8, med_9, med_10], ignore_index=True)"
   ]
  },
  {
   "cell_type": "markdown",
   "metadata": {},
   "source": [
    "### Combine med title with selftext into 1 column"
   ]
  },
  {
   "cell_type": "code",
   "execution_count": 978,
   "metadata": {},
   "outputs": [],
   "source": [
    "med = med['title'] + med['selftext']"
   ]
  },
  {
   "cell_type": "markdown",
   "metadata": {},
   "source": [
    "### Make med a pandas dataframe and change text column title to 'text'"
   ]
  },
  {
   "cell_type": "code",
   "execution_count": 979,
   "metadata": {},
   "outputs": [],
   "source": [
    "med = pd.DataFrame(med)"
   ]
  },
  {
   "cell_type": "code",
   "execution_count": 980,
   "metadata": {},
   "outputs": [],
   "source": [
    "med.columns = ['text']"
   ]
  },
  {
   "cell_type": "markdown",
   "metadata": {},
   "source": [
    "### Convert text column to an object data type"
   ]
  },
  {
   "cell_type": "code",
   "execution_count": 981,
   "metadata": {},
   "outputs": [
    {
     "data": {
      "text/plain": [
       "0       Stop the internal chatter and just go..https:/...\n",
       "1       Guided Meditation - where to start??Hello beau...\n",
       "2       Practicing meditation at monotonous workHey pe...\n",
       "3       Meditation after saunaThe deepest meditation I...\n",
       "4       Letting go of breathing...I have great difficu...\n",
       "                              ...                        \n",
       "9995           Meditation to help with Addiction[removed]\n",
       "9996    Body scanWhen doing the \"body scan\" meditation...\n",
       "9997    How do I experience the extreme calm some peop...\n",
       "9998    Relentless obsessive mental chatterNot just du...\n",
       "9999    try meditating like this&amp;#x200B;\\n\\n&amp;#...\n",
       "Name: text, Length: 10000, dtype: object"
      ]
     },
     "execution_count": 981,
     "metadata": {},
     "output_type": "execute_result"
    }
   ],
   "source": [
    "med['text'].astype(object)"
   ]
  },
  {
   "cell_type": "markdown",
   "metadata": {},
   "source": [
    "### Add a binomial class column to med and assign all med rows to 0"
   ]
  },
  {
   "cell_type": "code",
   "execution_count": 982,
   "metadata": {},
   "outputs": [],
   "source": [
    "med['class_'] = 0"
   ]
  },
  {
   "cell_type": "code",
   "execution_count": 983,
   "metadata": {},
   "outputs": [
    {
     "data": {
      "text/html": [
       "<div>\n",
       "<style scoped>\n",
       "    .dataframe tbody tr th:only-of-type {\n",
       "        vertical-align: middle;\n",
       "    }\n",
       "\n",
       "    .dataframe tbody tr th {\n",
       "        vertical-align: top;\n",
       "    }\n",
       "\n",
       "    .dataframe thead th {\n",
       "        text-align: right;\n",
       "    }\n",
       "</style>\n",
       "<table border=\"1\" class=\"dataframe\">\n",
       "  <thead>\n",
       "    <tr style=\"text-align: right;\">\n",
       "      <th></th>\n",
       "      <th>text</th>\n",
       "      <th>class_</th>\n",
       "    </tr>\n",
       "  </thead>\n",
       "  <tbody>\n",
       "    <tr>\n",
       "      <th>0</th>\n",
       "      <td>Stop the internal chatter and just go..https:/...</td>\n",
       "      <td>0</td>\n",
       "    </tr>\n",
       "    <tr>\n",
       "      <th>1</th>\n",
       "      <td>Guided Meditation - where to start??Hello beau...</td>\n",
       "      <td>0</td>\n",
       "    </tr>\n",
       "    <tr>\n",
       "      <th>2</th>\n",
       "      <td>Practicing meditation at monotonous workHey pe...</td>\n",
       "      <td>0</td>\n",
       "    </tr>\n",
       "    <tr>\n",
       "      <th>3</th>\n",
       "      <td>Meditation after saunaThe deepest meditation I...</td>\n",
       "      <td>0</td>\n",
       "    </tr>\n",
       "    <tr>\n",
       "      <th>4</th>\n",
       "      <td>Letting go of breathing...I have great difficu...</td>\n",
       "      <td>0</td>\n",
       "    </tr>\n",
       "    <tr>\n",
       "      <th>...</th>\n",
       "      <td>...</td>\n",
       "      <td>...</td>\n",
       "    </tr>\n",
       "    <tr>\n",
       "      <th>9995</th>\n",
       "      <td>Meditation to help with Addiction[removed]</td>\n",
       "      <td>0</td>\n",
       "    </tr>\n",
       "    <tr>\n",
       "      <th>9996</th>\n",
       "      <td>Body scanWhen doing the \"body scan\" meditation...</td>\n",
       "      <td>0</td>\n",
       "    </tr>\n",
       "    <tr>\n",
       "      <th>9997</th>\n",
       "      <td>How do I experience the extreme calm some peop...</td>\n",
       "      <td>0</td>\n",
       "    </tr>\n",
       "    <tr>\n",
       "      <th>9998</th>\n",
       "      <td>Relentless obsessive mental chatterNot just du...</td>\n",
       "      <td>0</td>\n",
       "    </tr>\n",
       "    <tr>\n",
       "      <th>9999</th>\n",
       "      <td>try meditating like this&amp;amp;#x200B;\\n\\n&amp;amp;#...</td>\n",
       "      <td>0</td>\n",
       "    </tr>\n",
       "  </tbody>\n",
       "</table>\n",
       "<p>10000 rows × 2 columns</p>\n",
       "</div>"
      ],
      "text/plain": [
       "                                                   text  class_\n",
       "0     Stop the internal chatter and just go..https:/...       0\n",
       "1     Guided Meditation - where to start??Hello beau...       0\n",
       "2     Practicing meditation at monotonous workHey pe...       0\n",
       "3     Meditation after saunaThe deepest meditation I...       0\n",
       "4     Letting go of breathing...I have great difficu...       0\n",
       "...                                                 ...     ...\n",
       "9995         Meditation to help with Addiction[removed]       0\n",
       "9996  Body scanWhen doing the \"body scan\" meditation...       0\n",
       "9997  How do I experience the extreme calm some peop...       0\n",
       "9998  Relentless obsessive mental chatterNot just du...       0\n",
       "9999  try meditating like this&amp;#x200B;\\n\\n&amp;#...       0\n",
       "\n",
       "[10000 rows x 2 columns]"
      ]
     },
     "execution_count": 983,
     "metadata": {},
     "output_type": "execute_result"
    }
   ],
   "source": [
    "med"
   ]
  },
  {
   "cell_type": "markdown",
   "metadata": {},
   "source": [
    "### Concatenate 'spirituality' and 'meditation' into 1 dataframe"
   ]
  },
  {
   "cell_type": "code",
   "execution_count": 984,
   "metadata": {},
   "outputs": [],
   "source": [
    "spm = pd.concat([spr, med])"
   ]
  },
  {
   "cell_type": "markdown",
   "metadata": {},
   "source": [
    "### Reset the index so that it counts from 0 to 20,0000"
   ]
  },
  {
   "cell_type": "code",
   "execution_count": 985,
   "metadata": {},
   "outputs": [],
   "source": [
    "spm = spm.reset_index(drop=True)"
   ]
  },
  {
   "cell_type": "markdown",
   "metadata": {},
   "source": [
    "### Look for null values"
   ]
  },
  {
   "cell_type": "code",
   "execution_count": 986,
   "metadata": {},
   "outputs": [
    {
     "data": {
      "text/plain": [
       "text      10\n",
       "class_     0\n",
       "dtype: int64"
      ]
     },
     "execution_count": 986,
     "metadata": {},
     "output_type": "execute_result"
    }
   ],
   "source": [
    "spm.isna().sum()"
   ]
  },
  {
   "cell_type": "markdown",
   "metadata": {},
   "source": [
    "### Drop null values"
   ]
  },
  {
   "cell_type": "code",
   "execution_count": 987,
   "metadata": {},
   "outputs": [],
   "source": [
    "spm.dropna(inplace=True)"
   ]
  },
  {
   "cell_type": "code",
   "execution_count": 988,
   "metadata": {},
   "outputs": [
    {
     "data": {
      "text/plain": [
       "text      0\n",
       "class_    0\n",
       "dtype: int64"
      ]
     },
     "execution_count": 988,
     "metadata": {},
     "output_type": "execute_result"
    }
   ],
   "source": [
    "spm.isna().sum()"
   ]
  },
  {
   "cell_type": "markdown",
   "metadata": {},
   "source": [
    "### Clean spm strings by removing: \n",
    "1. line breaks, \n",
    "2. apostrophes, \n",
    "3. punctuation, \n",
    "4. xa0, \n",
    "5. mentions of any subreddit, \n",
    "6. urls \n",
    "\n",
    "### and leaving only the letters"
   ]
  },
  {
   "cell_type": "code",
   "execution_count": 989,
   "metadata": {},
   "outputs": [],
   "source": [
    "spm['text'].map(lambda x: re.sub('\\/\\/', '', x)) # Removing line breaks\n",
    "spm['text'] = spm['text'].map(lambda x: re.sub('[\\\\][\\']', '', x)) # Removing apostrophes\n",
    "spm['text'] = spm['text'].map(lambda x: re.sub('[^\\w\\s]', ' ', x)) # Removing all punctuation \n",
    "spm['text'] = spm['text'].map(lambda x: re.sub('\\xa0', ' ', x)) # removing xa0\n",
    "spm['text'] = spm['text'].map(lambda x: re.sub('\\n', ' ', x)) # removing line break\n",
    "spm['text'] = spm['text'].map(lambda x: re.sub('\\s[\\/]?r\\/[^\\s]+', ' ', x)) # removing mentions of any subreddit\n",
    "spm['text'] = spm['text'].map(lambda x: re.sub('http[s]?:\\/\\/[^\\s]*', ' ', x)) # removing urls\n",
    "spm['text'] = spm['text'].map(lambda x: re.sub(\"[^a-zA-Z]\", \" \", x)) # Only keeping letters"
   ]
  },
  {
   "cell_type": "code",
   "execution_count": 990,
   "metadata": {},
   "outputs": [
    {
     "data": {
      "text/html": [
       "<div>\n",
       "<style scoped>\n",
       "    .dataframe tbody tr th:only-of-type {\n",
       "        vertical-align: middle;\n",
       "    }\n",
       "\n",
       "    .dataframe tbody tr th {\n",
       "        vertical-align: top;\n",
       "    }\n",
       "\n",
       "    .dataframe thead th {\n",
       "        text-align: right;\n",
       "    }\n",
       "</style>\n",
       "<table border=\"1\" class=\"dataframe\">\n",
       "  <thead>\n",
       "    <tr style=\"text-align: right;\">\n",
       "      <th></th>\n",
       "      <th>text</th>\n",
       "      <th>class_</th>\n",
       "    </tr>\n",
       "  </thead>\n",
       "  <tbody>\n",
       "    <tr>\n",
       "      <th>0</th>\n",
       "      <td>Soul TribeJust trying to find my spiritual fam...</td>\n",
       "      <td>1</td>\n",
       "    </tr>\n",
       "    <tr>\n",
       "      <th>1</th>\n",
       "      <td>THE JOURNEY TO LIFES RICHES BEGAN BY MAKING YO...</td>\n",
       "      <td>1</td>\n",
       "    </tr>\n",
       "    <tr>\n",
       "      <th>2</th>\n",
       "      <td>Spiritual awakening  amp  relationshipsHi  Im ...</td>\n",
       "      <td>1</td>\n",
       "    </tr>\n",
       "    <tr>\n",
       "      <th>3</th>\n",
       "      <td>SpartacusIn one of my visions I am in a Ludus ...</td>\n",
       "      <td>1</td>\n",
       "    </tr>\n",
       "    <tr>\n",
       "      <th>4</th>\n",
       "      <td>Mixing  dreams  with  realities  I often find ...</td>\n",
       "      <td>1</td>\n",
       "    </tr>\n",
       "    <tr>\n",
       "      <th>...</th>\n",
       "      <td>...</td>\n",
       "      <td>...</td>\n",
       "    </tr>\n",
       "    <tr>\n",
       "      <th>19995</th>\n",
       "      <td>Meditation to help with Addictionremoved</td>\n",
       "      <td>0</td>\n",
       "    </tr>\n",
       "    <tr>\n",
       "      <th>19996</th>\n",
       "      <td>Body scanWhen doing the  body scan  meditation...</td>\n",
       "      <td>0</td>\n",
       "    </tr>\n",
       "    <tr>\n",
       "      <th>19997</th>\n",
       "      <td>How do I experience the extreme calm some peop...</td>\n",
       "      <td>0</td>\n",
       "    </tr>\n",
       "    <tr>\n",
       "      <th>19998</th>\n",
       "      <td>Relentless obsessive mental chatterNot just du...</td>\n",
       "      <td>0</td>\n",
       "    </tr>\n",
       "    <tr>\n",
       "      <th>19999</th>\n",
       "      <td>try meditating like this amp  x   B    amp  x ...</td>\n",
       "      <td>0</td>\n",
       "    </tr>\n",
       "  </tbody>\n",
       "</table>\n",
       "<p>19990 rows × 2 columns</p>\n",
       "</div>"
      ],
      "text/plain": [
       "                                                    text  class_\n",
       "0      Soul TribeJust trying to find my spiritual fam...       1\n",
       "1      THE JOURNEY TO LIFES RICHES BEGAN BY MAKING YO...       1\n",
       "2      Spiritual awakening  amp  relationshipsHi  Im ...       1\n",
       "3      SpartacusIn one of my visions I am in a Ludus ...       1\n",
       "4      Mixing  dreams  with  realities  I often find ...       1\n",
       "...                                                  ...     ...\n",
       "19995           Meditation to help with Addictionremoved       0\n",
       "19996  Body scanWhen doing the  body scan  meditation...       0\n",
       "19997  How do I experience the extreme calm some peop...       0\n",
       "19998  Relentless obsessive mental chatterNot just du...       0\n",
       "19999  try meditating like this amp  x   B    amp  x ...       0\n",
       "\n",
       "[19990 rows x 2 columns]"
      ]
     },
     "execution_count": 990,
     "metadata": {},
     "output_type": "execute_result"
    }
   ],
   "source": [
    "spm"
   ]
  },
  {
   "cell_type": "markdown",
   "metadata": {},
   "source": [
    "### Make all letters lower case"
   ]
  },
  {
   "cell_type": "code",
   "execution_count": 991,
   "metadata": {},
   "outputs": [
    {
     "data": {
      "text/plain": [
       "0        soul tribejust trying to find my spiritual fam...\n",
       "1        the journey to lifes riches began by making yo...\n",
       "2        spiritual awakening  amp  relationshipshi  im ...\n",
       "3        spartacusin one of my visions i am in a ludus ...\n",
       "4        mixing  dreams  with  realities  i often find ...\n",
       "                               ...                        \n",
       "19995             meditation to help with addictionremoved\n",
       "19996    body scanwhen doing the  body scan  meditation...\n",
       "19997    how do i experience the extreme calm some peop...\n",
       "19998    relentless obsessive mental chatternot just du...\n",
       "19999    try meditating like this amp  x   b    amp  x ...\n",
       "Name: text, Length: 19990, dtype: object"
      ]
     },
     "execution_count": 991,
     "metadata": {},
     "output_type": "execute_result"
    }
   ],
   "source": [
    "spm['text'].str.lower()"
   ]
  },
  {
   "cell_type": "markdown",
   "metadata": {},
   "source": [
    "### Drop all duplicate rows"
   ]
  },
  {
   "cell_type": "code",
   "execution_count": 992,
   "metadata": {},
   "outputs": [],
   "source": [
    "spm.drop_duplicates(inplace=True)"
   ]
  },
  {
   "cell_type": "code",
   "execution_count": 993,
   "metadata": {},
   "outputs": [
    {
     "data": {
      "text/plain": [
       "(19756, 2)"
      ]
     },
     "execution_count": 993,
     "metadata": {},
     "output_type": "execute_result"
    }
   ],
   "source": [
    "spm.shape"
   ]
  },
  {
   "cell_type": "markdown",
   "metadata": {},
   "source": [
    "### spm Dateframe is now 19,756 rows\n",
    "***\n",
    "### Create a target (y variable)"
   ]
  },
  {
   "cell_type": "code",
   "execution_count": 1010,
   "metadata": {},
   "outputs": [],
   "source": [
    "target_ = spm['class_']"
   ]
  },
  {
   "cell_type": "markdown",
   "metadata": {},
   "source": [
    "### Create Columns of character count and word count"
   ]
  },
  {
   "cell_type": "code",
   "execution_count": 1011,
   "metadata": {},
   "outputs": [],
   "source": [
    "spm['char_count'] = spm.text.map(len)"
   ]
  },
  {
   "cell_type": "code",
   "execution_count": 1012,
   "metadata": {},
   "outputs": [],
   "source": [
    "spm['word_count'] = spm.text.map(lambda x: len(x.split()))"
   ]
  },
  {
   "cell_type": "code",
   "execution_count": 1013,
   "metadata": {},
   "outputs": [
    {
     "data": {
      "text/plain": [
       "1    9898\n",
       "0    9858\n",
       "Name: class_, dtype: int64"
      ]
     },
     "execution_count": 1013,
     "metadata": {},
     "output_type": "execute_result"
    }
   ],
   "source": [
    "spm['class_'].value_counts()"
   ]
  },
  {
   "cell_type": "code",
   "execution_count": 1014,
   "metadata": {},
   "outputs": [
    {
     "data": {
      "text/html": [
       "<div>\n",
       "<style scoped>\n",
       "    .dataframe tbody tr th:only-of-type {\n",
       "        vertical-align: middle;\n",
       "    }\n",
       "\n",
       "    .dataframe tbody tr th {\n",
       "        vertical-align: top;\n",
       "    }\n",
       "\n",
       "    .dataframe thead th {\n",
       "        text-align: right;\n",
       "    }\n",
       "</style>\n",
       "<table border=\"1\" class=\"dataframe\">\n",
       "  <thead>\n",
       "    <tr style=\"text-align: right;\">\n",
       "      <th></th>\n",
       "      <th>text</th>\n",
       "      <th>class_</th>\n",
       "      <th>char_count</th>\n",
       "      <th>word_count</th>\n",
       "    </tr>\n",
       "  </thead>\n",
       "  <tbody>\n",
       "    <tr>\n",
       "      <th>0</th>\n",
       "      <td>Soul TribeJust trying to find my spiritual fam...</td>\n",
       "      <td>1</td>\n",
       "      <td>65</td>\n",
       "      <td>11</td>\n",
       "    </tr>\n",
       "    <tr>\n",
       "      <th>1</th>\n",
       "      <td>THE JOURNEY TO LIFES RICHES BEGAN BY MAKING YO...</td>\n",
       "      <td>1</td>\n",
       "      <td>134</td>\n",
       "      <td>22</td>\n",
       "    </tr>\n",
       "  </tbody>\n",
       "</table>\n",
       "</div>"
      ],
      "text/plain": [
       "                                                text  class_  char_count  \\\n",
       "0  Soul TribeJust trying to find my spiritual fam...       1          65   \n",
       "1  THE JOURNEY TO LIFES RICHES BEGAN BY MAKING YO...       1         134   \n",
       "\n",
       "   word_count  \n",
       "0          11  \n",
       "1          22  "
      ]
     },
     "execution_count": 1014,
     "metadata": {},
     "output_type": "execute_result"
    }
   ],
   "source": [
    "spm.head(2)"
   ]
  },
  {
   "cell_type": "markdown",
   "metadata": {},
   "source": [
    "### Create histograms to depict character counts and word counts of spirituality and meditation"
   ]
  },
  {
   "cell_type": "code",
   "execution_count": 1186,
   "metadata": {},
   "outputs": [],
   "source": [
    "char_count_mask = (spm['char_count'] < 4000)\n",
    "med_mask = (spm['class_']==0)\n",
    "spr_mask = (spm['class_']==1)"
   ]
  },
  {
   "cell_type": "code",
   "execution_count": 1212,
   "metadata": {},
   "outputs": [
    {
     "data": {
      "text/plain": [
       "<matplotlib.legend.Legend at 0x1a65fa0d10>"
      ]
     },
     "execution_count": 1212,
     "metadata": {},
     "output_type": "execute_result"
    },
    {
     "data": {
      "image/png": "[encoded data removed]",
      "text/plain": [
       "<Figure size 1008x288 with 1 Axes>"
      ]
     },
     "metadata": {
      "needs_background": "light"
     },
     "output_type": "display_data"
    }
   ],
   "source": [
    "plt.figure(figsize=(14,4))\n",
    "plt.hist([spm[char_count_mask & med_mask]['char_count'], spm[char_count_mask & spr_mask]['char_count']],\n",
    "         bins=16, color=['gold', 'slateblue'], ec='k')\n",
    "plt.title('Character Count by Class', fontsize=20)\n",
    "plt.xlabel('Range of characters per post', fontsize=18)\n",
    "plt.ylabel('Frequency', fontsize=16)\n",
    "plt.legend(['Meditation', 'Spirituality'])"
   ]
  },
  {
   "cell_type": "code",
   "execution_count": 1195,
   "metadata": {},
   "outputs": [],
   "source": [
    "word_count_mask = (spm['char_count'] < 2000)\n",
    "med_w_mask = (spm['class_']==0)\n",
    "spr_w_mask = (spm['class_']==1)"
   ]
  },
  {
   "cell_type": "code",
   "execution_count": 1222,
   "metadata": {},
   "outputs": [
    {
     "data": {
      "text/plain": [
       "<matplotlib.legend.Legend at 0x1a64362f90>"
      ]
     },
     "execution_count": 1222,
     "metadata": {},
     "output_type": "execute_result"
    },
    {
     "data": {
      "image/png": "[encoded data removed]",
      "text/plain": [
       "<Figure size 1008x288 with 1 Axes>"
      ]
     },
     "metadata": {
      "needs_background": "light"
     },
     "output_type": "display_data"
    }
   ],
   "source": [
    "plt.figure(figsize=(14,4))\n",
    "plt.hist([spm[word_count_mask & med_w_mask]['word_count'], spm[word_count_mask & spr_w_mask]['word_count']],\n",
    "         bins=16, color=['gold', 'slateblue'], ec='k')\n",
    "plt.title('Word Count by Class', fontsize=20)\n",
    "plt.xlabel('Range of words per Post', fontsize=18)\n",
    "plt.ylabel('Frequency', fontsize=16)\n",
    "plt.legend(['Meditation', 'Spirituality'])"
   ]
  },
  {
   "cell_type": "markdown",
   "metadata": {},
   "source": [
    "### Plotting a bar chart of the mean values of character and word counts for classes 0 and 1"
   ]
  },
  {
   "cell_type": "code",
   "execution_count": 1017,
   "metadata": {},
   "outputs": [
    {
     "data": {
      "text/plain": [
       "<matplotlib.axes._subplots.AxesSubplot at 0x1a53473590>"
      ]
     },
     "execution_count": 1017,
     "metadata": {},
     "output_type": "execute_result"
    },
    {
     "data": {
      "image/png": "[encoded data removed]",
      "text/plain": [
       "<Figure size 432x288 with 1 Axes>"
      ]
     },
     "metadata": {
      "needs_background": "light"
     },
     "output_type": "display_data"
    }
   ],
   "source": [
    "spm.groupby(spm['class_']).mean().plot(kind='bar')"
   ]
  },
  {
   "cell_type": "markdown",
   "metadata": {},
   "source": [
    "### Get CountVec for All Text"
   ]
  },
  {
   "cell_type": "code",
   "execution_count": 1164,
   "metadata": {},
   "outputs": [],
   "source": [
    "#stopwords.words('english')\n",
    "stopwords = nltk.corpus.stopwords.words('english')\n",
    "stopwords.append('like')\n",
    "stopwords.append('just')\n",
    "stopwords.append('really')\n",
    "stopwords.append('im')\n",
    "stopwords.append('amp')\n",
    "stopwords.append('would')\n",
    "stopwords.append('get')\n",
    "stopwords.append('something')\n",
    "stopwords.append('dont')\n",
    "stopwords.append('people')\n",
    "stopwords.append('even')\n",
    "stopwords.append('go')\n",
    "stopwords.append('also')"
   ]
  },
  {
   "cell_type": "code",
   "execution_count": 1165,
   "metadata": {},
   "outputs": [],
   "source": [
    "cvec = CountVectorizer(stop_words=stopwords, min_df=5, max_df=1.0)"
   ]
  },
  {
   "cell_type": "code",
   "execution_count": 1166,
   "metadata": {},
   "outputs": [],
   "source": [
    "term_mat = cvec.fit_transform(spm['text'])"
   ]
  },
  {
   "cell_type": "code",
   "execution_count": 1167,
   "metadata": {},
   "outputs": [
    {
     "data": {
      "text/plain": [
       "12742"
      ]
     },
     "execution_count": 1167,
     "metadata": {},
     "output_type": "execute_result"
    }
   ],
   "source": [
    "len(cvec.get_feature_names())"
   ]
  },
  {
   "cell_type": "markdown",
   "metadata": {},
   "source": [
    "### Create a pandas DataFrame with columns for each feature name"
   ]
  },
  {
   "cell_type": "code",
   "execution_count": 1168,
   "metadata": {},
   "outputs": [],
   "source": [
    "term_spm = pd.DataFrame(term_mat.toarray(), columns=cvec.get_feature_names())"
   ]
  },
  {
   "cell_type": "markdown",
   "metadata": {},
   "source": [
    "### Create target column from class column and insert it into the dataframe as the first column"
   ]
  },
  {
   "cell_type": "code",
   "execution_count": 1169,
   "metadata": {},
   "outputs": [],
   "source": [
    "term_spm.insert(0, 'target_', target)"
   ]
  },
  {
   "cell_type": "code",
   "execution_count": 1170,
   "metadata": {},
   "outputs": [
    {
     "data": {
      "text/plain": [
       "1.0    9898\n",
       "0.0    9616\n",
       "Name: target_, dtype: int64"
      ]
     },
     "execution_count": 1170,
     "metadata": {},
     "output_type": "execute_result"
    }
   ],
   "source": [
    "term_spm['target_'].value_counts()"
   ]
  },
  {
   "cell_type": "code",
   "execution_count": 1171,
   "metadata": {},
   "outputs": [
    {
     "data": {
      "text/html": [
       "<div>\n",
       "<style scoped>\n",
       "    .dataframe tbody tr th:only-of-type {\n",
       "        vertical-align: middle;\n",
       "    }\n",
       "\n",
       "    .dataframe tbody tr th {\n",
       "        vertical-align: top;\n",
       "    }\n",
       "\n",
       "    .dataframe thead th {\n",
       "        text-align: right;\n",
       "    }\n",
       "</style>\n",
       "<table border=\"1\" class=\"dataframe\">\n",
       "  <thead>\n",
       "    <tr style=\"text-align: right;\">\n",
       "      <th></th>\n",
       "      <th>target_</th>\n",
       "      <th>aa</th>\n",
       "      <th>ab</th>\n",
       "      <th>aback</th>\n",
       "      <th>abandon</th>\n",
       "      <th>abandoned</th>\n",
       "      <th>abandoning</th>\n",
       "      <th>abandonment</th>\n",
       "      <th>abd</th>\n",
       "      <th>abdomen</th>\n",
       "      <th>...</th>\n",
       "      <th>zeus</th>\n",
       "      <th>zinn</th>\n",
       "      <th>zodiac</th>\n",
       "      <th>zombie</th>\n",
       "      <th>zombies</th>\n",
       "      <th>zone</th>\n",
       "      <th>zoned</th>\n",
       "      <th>zones</th>\n",
       "      <th>zoning</th>\n",
       "      <th>zoom</th>\n",
       "    </tr>\n",
       "  </thead>\n",
       "  <tbody>\n",
       "    <tr>\n",
       "      <th>0</th>\n",
       "      <td>1.0</td>\n",
       "      <td>0</td>\n",
       "      <td>0</td>\n",
       "      <td>0</td>\n",
       "      <td>0</td>\n",
       "      <td>0</td>\n",
       "      <td>0</td>\n",
       "      <td>0</td>\n",
       "      <td>0</td>\n",
       "      <td>0</td>\n",
       "      <td>...</td>\n",
       "      <td>0</td>\n",
       "      <td>0</td>\n",
       "      <td>0</td>\n",
       "      <td>0</td>\n",
       "      <td>0</td>\n",
       "      <td>0</td>\n",
       "      <td>0</td>\n",
       "      <td>0</td>\n",
       "      <td>0</td>\n",
       "      <td>0</td>\n",
       "    </tr>\n",
       "    <tr>\n",
       "      <th>1</th>\n",
       "      <td>1.0</td>\n",
       "      <td>0</td>\n",
       "      <td>0</td>\n",
       "      <td>0</td>\n",
       "      <td>0</td>\n",
       "      <td>0</td>\n",
       "      <td>0</td>\n",
       "      <td>0</td>\n",
       "      <td>0</td>\n",
       "      <td>0</td>\n",
       "      <td>...</td>\n",
       "      <td>0</td>\n",
       "      <td>0</td>\n",
       "      <td>0</td>\n",
       "      <td>0</td>\n",
       "      <td>0</td>\n",
       "      <td>0</td>\n",
       "      <td>0</td>\n",
       "      <td>0</td>\n",
       "      <td>0</td>\n",
       "      <td>0</td>\n",
       "    </tr>\n",
       "    <tr>\n",
       "      <th>2</th>\n",
       "      <td>1.0</td>\n",
       "      <td>0</td>\n",
       "      <td>0</td>\n",
       "      <td>0</td>\n",
       "      <td>0</td>\n",
       "      <td>0</td>\n",
       "      <td>0</td>\n",
       "      <td>0</td>\n",
       "      <td>0</td>\n",
       "      <td>0</td>\n",
       "      <td>...</td>\n",
       "      <td>0</td>\n",
       "      <td>0</td>\n",
       "      <td>0</td>\n",
       "      <td>0</td>\n",
       "      <td>0</td>\n",
       "      <td>0</td>\n",
       "      <td>0</td>\n",
       "      <td>0</td>\n",
       "      <td>0</td>\n",
       "      <td>0</td>\n",
       "    </tr>\n",
       "    <tr>\n",
       "      <th>3</th>\n",
       "      <td>1.0</td>\n",
       "      <td>0</td>\n",
       "      <td>0</td>\n",
       "      <td>0</td>\n",
       "      <td>0</td>\n",
       "      <td>0</td>\n",
       "      <td>0</td>\n",
       "      <td>0</td>\n",
       "      <td>0</td>\n",
       "      <td>0</td>\n",
       "      <td>...</td>\n",
       "      <td>0</td>\n",
       "      <td>0</td>\n",
       "      <td>0</td>\n",
       "      <td>0</td>\n",
       "      <td>0</td>\n",
       "      <td>0</td>\n",
       "      <td>0</td>\n",
       "      <td>0</td>\n",
       "      <td>0</td>\n",
       "      <td>0</td>\n",
       "    </tr>\n",
       "    <tr>\n",
       "      <th>4</th>\n",
       "      <td>1.0</td>\n",
       "      <td>0</td>\n",
       "      <td>0</td>\n",
       "      <td>0</td>\n",
       "      <td>0</td>\n",
       "      <td>0</td>\n",
       "      <td>0</td>\n",
       "      <td>0</td>\n",
       "      <td>0</td>\n",
       "      <td>0</td>\n",
       "      <td>...</td>\n",
       "      <td>0</td>\n",
       "      <td>0</td>\n",
       "      <td>0</td>\n",
       "      <td>0</td>\n",
       "      <td>0</td>\n",
       "      <td>0</td>\n",
       "      <td>0</td>\n",
       "      <td>0</td>\n",
       "      <td>0</td>\n",
       "      <td>0</td>\n",
       "    </tr>\n",
       "  </tbody>\n",
       "</table>\n",
       "<p>5 rows × 12743 columns</p>\n",
       "</div>"
      ],
      "text/plain": [
       "   target_  aa  ab  aback  abandon  abandoned  abandoning  abandonment  abd  \\\n",
       "0      1.0   0   0      0        0          0           0            0    0   \n",
       "1      1.0   0   0      0        0          0           0            0    0   \n",
       "2      1.0   0   0      0        0          0           0            0    0   \n",
       "3      1.0   0   0      0        0          0           0            0    0   \n",
       "4      1.0   0   0      0        0          0           0            0    0   \n",
       "\n",
       "   abdomen  ...  zeus  zinn  zodiac  zombie  zombies  zone  zoned  zones  \\\n",
       "0        0  ...     0     0       0       0        0     0      0      0   \n",
       "1        0  ...     0     0       0       0        0     0      0      0   \n",
       "2        0  ...     0     0       0       0        0     0      0      0   \n",
       "3        0  ...     0     0       0       0        0     0      0      0   \n",
       "4        0  ...     0     0       0       0        0     0      0      0   \n",
       "\n",
       "   zoning  zoom  \n",
       "0       0     0  \n",
       "1       0     0  \n",
       "2       0     0  \n",
       "3       0     0  \n",
       "4       0     0  \n",
       "\n",
       "[5 rows x 12743 columns]"
      ]
     },
     "execution_count": 1171,
     "metadata": {},
     "output_type": "execute_result"
    }
   ],
   "source": [
    "term_spm.head()"
   ]
  },
  {
   "cell_type": "markdown",
   "metadata": {},
   "source": [
    "### Group Target column by mean of each feature name"
   ]
  },
  {
   "cell_type": "code",
   "execution_count": 1172,
   "metadata": {},
   "outputs": [
    {
     "data": {
      "text/html": [
       "<div>\n",
       "<style scoped>\n",
       "    .dataframe tbody tr th:only-of-type {\n",
       "        vertical-align: middle;\n",
       "    }\n",
       "\n",
       "    .dataframe tbody tr th {\n",
       "        vertical-align: top;\n",
       "    }\n",
       "\n",
       "    .dataframe thead th {\n",
       "        text-align: right;\n",
       "    }\n",
       "</style>\n",
       "<table border=\"1\" class=\"dataframe\">\n",
       "  <thead>\n",
       "    <tr style=\"text-align: right;\">\n",
       "      <th></th>\n",
       "      <th>aa</th>\n",
       "      <th>ab</th>\n",
       "      <th>aback</th>\n",
       "      <th>abandon</th>\n",
       "      <th>abandoned</th>\n",
       "      <th>abandoning</th>\n",
       "      <th>abandonment</th>\n",
       "      <th>abd</th>\n",
       "      <th>abdomen</th>\n",
       "      <th>abdominal</th>\n",
       "      <th>...</th>\n",
       "      <th>zeus</th>\n",
       "      <th>zinn</th>\n",
       "      <th>zodiac</th>\n",
       "      <th>zombie</th>\n",
       "      <th>zombies</th>\n",
       "      <th>zone</th>\n",
       "      <th>zoned</th>\n",
       "      <th>zones</th>\n",
       "      <th>zoning</th>\n",
       "      <th>zoom</th>\n",
       "    </tr>\n",
       "    <tr>\n",
       "      <th>target_</th>\n",
       "      <th></th>\n",
       "      <th></th>\n",
       "      <th></th>\n",
       "      <th></th>\n",
       "      <th></th>\n",
       "      <th></th>\n",
       "      <th></th>\n",
       "      <th></th>\n",
       "      <th></th>\n",
       "      <th></th>\n",
       "      <th></th>\n",
       "      <th></th>\n",
       "      <th></th>\n",
       "      <th></th>\n",
       "      <th></th>\n",
       "      <th></th>\n",
       "      <th></th>\n",
       "      <th></th>\n",
       "      <th></th>\n",
       "      <th></th>\n",
       "      <th></th>\n",
       "    </tr>\n",
       "  </thead>\n",
       "  <tbody>\n",
       "    <tr>\n",
       "      <th>0.0</th>\n",
       "      <td>0.000104</td>\n",
       "      <td>0.000416</td>\n",
       "      <td>0.000000</td>\n",
       "      <td>0.000832</td>\n",
       "      <td>0.000208</td>\n",
       "      <td>0.000416</td>\n",
       "      <td>0.000208</td>\n",
       "      <td>0.000312</td>\n",
       "      <td>0.003328</td>\n",
       "      <td>0.000624</td>\n",
       "      <td>...</td>\n",
       "      <td>0.000104</td>\n",
       "      <td>0.00052</td>\n",
       "      <td>0.000000</td>\n",
       "      <td>0.000624</td>\n",
       "      <td>0.000208</td>\n",
       "      <td>0.006552</td>\n",
       "      <td>0.000728</td>\n",
       "      <td>0.000104</td>\n",
       "      <td>0.000728</td>\n",
       "      <td>0.000936</td>\n",
       "    </tr>\n",
       "    <tr>\n",
       "      <th>1.0</th>\n",
       "      <td>0.001515</td>\n",
       "      <td>0.000303</td>\n",
       "      <td>0.000404</td>\n",
       "      <td>0.002728</td>\n",
       "      <td>0.004849</td>\n",
       "      <td>0.000909</td>\n",
       "      <td>0.001010</td>\n",
       "      <td>0.000505</td>\n",
       "      <td>0.000303</td>\n",
       "      <td>0.000101</td>\n",
       "      <td>...</td>\n",
       "      <td>0.004041</td>\n",
       "      <td>0.00000</td>\n",
       "      <td>0.002627</td>\n",
       "      <td>0.002021</td>\n",
       "      <td>0.000303</td>\n",
       "      <td>0.003940</td>\n",
       "      <td>0.000303</td>\n",
       "      <td>0.001111</td>\n",
       "      <td>0.000101</td>\n",
       "      <td>0.000909</td>\n",
       "    </tr>\n",
       "  </tbody>\n",
       "</table>\n",
       "<p>2 rows × 12742 columns</p>\n",
       "</div>"
      ],
      "text/plain": [
       "               aa        ab     aback   abandon  abandoned  abandoning  \\\n",
       "target_                                                                  \n",
       "0.0      0.000104  0.000416  0.000000  0.000832   0.000208    0.000416   \n",
       "1.0      0.001515  0.000303  0.000404  0.002728   0.004849    0.000909   \n",
       "\n",
       "         abandonment       abd   abdomen  abdominal  ...      zeus     zinn  \\\n",
       "target_                                              ...                      \n",
       "0.0         0.000208  0.000312  0.003328   0.000624  ...  0.000104  0.00052   \n",
       "1.0         0.001010  0.000505  0.000303   0.000101  ...  0.004041  0.00000   \n",
       "\n",
       "           zodiac    zombie   zombies      zone     zoned     zones    zoning  \\\n",
       "target_                                                                         \n",
       "0.0      0.000000  0.000624  0.000208  0.006552  0.000728  0.000104  0.000728   \n",
       "1.0      0.002627  0.002021  0.000303  0.003940  0.000303  0.001111  0.000101   \n",
       "\n",
       "             zoom  \n",
       "target_            \n",
       "0.0      0.000936  \n",
       "1.0      0.000909  \n",
       "\n",
       "[2 rows x 12742 columns]"
      ]
     },
     "execution_count": 1172,
     "metadata": {},
     "output_type": "execute_result"
    }
   ],
   "source": [
    "term_spm.groupby('target_').mean()"
   ]
  },
  {
   "cell_type": "markdown",
   "metadata": {},
   "source": [
    "### Group Target column by sum of each feature name"
   ]
  },
  {
   "cell_type": "code",
   "execution_count": 1173,
   "metadata": {},
   "outputs": [
    {
     "data": {
      "text/html": [
       "<div>\n",
       "<style scoped>\n",
       "    .dataframe tbody tr th:only-of-type {\n",
       "        vertical-align: middle;\n",
       "    }\n",
       "\n",
       "    .dataframe tbody tr th {\n",
       "        vertical-align: top;\n",
       "    }\n",
       "\n",
       "    .dataframe thead th {\n",
       "        text-align: right;\n",
       "    }\n",
       "</style>\n",
       "<table border=\"1\" class=\"dataframe\">\n",
       "  <thead>\n",
       "    <tr style=\"text-align: right;\">\n",
       "      <th></th>\n",
       "      <th>aa</th>\n",
       "      <th>ab</th>\n",
       "      <th>aback</th>\n",
       "      <th>abandon</th>\n",
       "      <th>abandoned</th>\n",
       "      <th>abandoning</th>\n",
       "      <th>abandonment</th>\n",
       "      <th>abd</th>\n",
       "      <th>abdomen</th>\n",
       "      <th>abdominal</th>\n",
       "      <th>...</th>\n",
       "      <th>zeus</th>\n",
       "      <th>zinn</th>\n",
       "      <th>zodiac</th>\n",
       "      <th>zombie</th>\n",
       "      <th>zombies</th>\n",
       "      <th>zone</th>\n",
       "      <th>zoned</th>\n",
       "      <th>zones</th>\n",
       "      <th>zoning</th>\n",
       "      <th>zoom</th>\n",
       "    </tr>\n",
       "    <tr>\n",
       "      <th>target_</th>\n",
       "      <th></th>\n",
       "      <th></th>\n",
       "      <th></th>\n",
       "      <th></th>\n",
       "      <th></th>\n",
       "      <th></th>\n",
       "      <th></th>\n",
       "      <th></th>\n",
       "      <th></th>\n",
       "      <th></th>\n",
       "      <th></th>\n",
       "      <th></th>\n",
       "      <th></th>\n",
       "      <th></th>\n",
       "      <th></th>\n",
       "      <th></th>\n",
       "      <th></th>\n",
       "      <th></th>\n",
       "      <th></th>\n",
       "      <th></th>\n",
       "      <th></th>\n",
       "    </tr>\n",
       "  </thead>\n",
       "  <tbody>\n",
       "    <tr>\n",
       "      <th>0.0</th>\n",
       "      <td>1</td>\n",
       "      <td>4</td>\n",
       "      <td>0</td>\n",
       "      <td>8</td>\n",
       "      <td>2</td>\n",
       "      <td>4</td>\n",
       "      <td>2</td>\n",
       "      <td>3</td>\n",
       "      <td>32</td>\n",
       "      <td>6</td>\n",
       "      <td>...</td>\n",
       "      <td>1</td>\n",
       "      <td>5</td>\n",
       "      <td>0</td>\n",
       "      <td>6</td>\n",
       "      <td>2</td>\n",
       "      <td>63</td>\n",
       "      <td>7</td>\n",
       "      <td>1</td>\n",
       "      <td>7</td>\n",
       "      <td>9</td>\n",
       "    </tr>\n",
       "    <tr>\n",
       "      <th>1.0</th>\n",
       "      <td>15</td>\n",
       "      <td>3</td>\n",
       "      <td>4</td>\n",
       "      <td>27</td>\n",
       "      <td>48</td>\n",
       "      <td>9</td>\n",
       "      <td>10</td>\n",
       "      <td>5</td>\n",
       "      <td>3</td>\n",
       "      <td>1</td>\n",
       "      <td>...</td>\n",
       "      <td>40</td>\n",
       "      <td>0</td>\n",
       "      <td>26</td>\n",
       "      <td>20</td>\n",
       "      <td>3</td>\n",
       "      <td>39</td>\n",
       "      <td>3</td>\n",
       "      <td>11</td>\n",
       "      <td>1</td>\n",
       "      <td>9</td>\n",
       "    </tr>\n",
       "  </tbody>\n",
       "</table>\n",
       "<p>2 rows × 12742 columns</p>\n",
       "</div>"
      ],
      "text/plain": [
       "         aa  ab  aback  abandon  abandoned  abandoning  abandonment  abd  \\\n",
       "target_                                                                    \n",
       "0.0       1   4      0        8          2           4            2    3   \n",
       "1.0      15   3      4       27         48           9           10    5   \n",
       "\n",
       "         abdomen  abdominal  ...  zeus  zinn  zodiac  zombie  zombies  zone  \\\n",
       "target_                      ...                                              \n",
       "0.0           32          6  ...     1     5       0       6        2    63   \n",
       "1.0            3          1  ...    40     0      26      20        3    39   \n",
       "\n",
       "         zoned  zones  zoning  zoom  \n",
       "target_                              \n",
       "0.0          7      1       7     9  \n",
       "1.0          3     11       1     9  \n",
       "\n",
       "[2 rows x 12742 columns]"
      ]
     },
     "execution_count": 1173,
     "metadata": {},
     "output_type": "execute_result"
    }
   ],
   "source": [
    "term_spm.groupby('target_').sum()"
   ]
  },
  {
   "cell_type": "markdown",
   "metadata": {},
   "source": [
    "### Display the top 20 terms for Meditation"
   ]
  },
  {
   "cell_type": "code",
   "execution_count": 1174,
   "metadata": {},
   "outputs": [
    {
     "data": {
      "text/html": [
       "<div>\n",
       "<style scoped>\n",
       "    .dataframe tbody tr th:only-of-type {\n",
       "        vertical-align: middle;\n",
       "    }\n",
       "\n",
       "    .dataframe tbody tr th {\n",
       "        vertical-align: top;\n",
       "    }\n",
       "\n",
       "    .dataframe thead th {\n",
       "        text-align: right;\n",
       "    }\n",
       "</style>\n",
       "<table border=\"1\" class=\"dataframe\">\n",
       "  <thead>\n",
       "    <tr style=\"text-align: right;\">\n",
       "      <th>target_</th>\n",
       "      <th>0.0</th>\n",
       "      <th>1.0</th>\n",
       "    </tr>\n",
       "  </thead>\n",
       "  <tbody>\n",
       "    <tr>\n",
       "      <th>meditation</th>\n",
       "      <td>1.155886</td>\n",
       "      <td>0.108507</td>\n",
       "    </tr>\n",
       "    <tr>\n",
       "      <th>feel</th>\n",
       "      <td>0.382696</td>\n",
       "      <td>0.513740</td>\n",
       "    </tr>\n",
       "    <tr>\n",
       "      <th>time</th>\n",
       "      <td>0.364705</td>\n",
       "      <td>0.446858</td>\n",
       "    </tr>\n",
       "    <tr>\n",
       "      <th>mind</th>\n",
       "      <td>0.336210</td>\n",
       "      <td>0.275207</td>\n",
       "    </tr>\n",
       "    <tr>\n",
       "      <th>meditating</th>\n",
       "      <td>0.314372</td>\n",
       "      <td>0.032734</td>\n",
       "    </tr>\n",
       "    <tr>\n",
       "      <th>thoughts</th>\n",
       "      <td>0.285046</td>\n",
       "      <td>0.181754</td>\n",
       "    </tr>\n",
       "    <tr>\n",
       "      <th>one</th>\n",
       "      <td>0.272879</td>\n",
       "      <td>0.589210</td>\n",
       "    </tr>\n",
       "    <tr>\n",
       "      <th>ive</th>\n",
       "      <td>0.263831</td>\n",
       "      <td>0.206203</td>\n",
       "    </tr>\n",
       "    <tr>\n",
       "      <th>know</th>\n",
       "      <td>0.258007</td>\n",
       "      <td>0.521722</td>\n",
       "    </tr>\n",
       "    <tr>\n",
       "      <th>day</th>\n",
       "      <td>0.249688</td>\n",
       "      <td>0.227622</td>\n",
       "    </tr>\n",
       "    <tr>\n",
       "      <th>life</th>\n",
       "      <td>0.246464</td>\n",
       "      <td>0.708325</td>\n",
       "    </tr>\n",
       "    <tr>\n",
       "      <th>meditate</th>\n",
       "      <td>0.245008</td>\n",
       "      <td>0.033037</td>\n",
       "    </tr>\n",
       "    <tr>\n",
       "      <th>body</th>\n",
       "      <td>0.207675</td>\n",
       "      <td>0.195393</td>\n",
       "    </tr>\n",
       "    <tr>\n",
       "      <th>experience</th>\n",
       "      <td>0.201123</td>\n",
       "      <td>0.184078</td>\n",
       "    </tr>\n",
       "    <tr>\n",
       "      <th>practice</th>\n",
       "      <td>0.200291</td>\n",
       "      <td>0.051020</td>\n",
       "    </tr>\n",
       "    <tr>\n",
       "      <th>feeling</th>\n",
       "      <td>0.199771</td>\n",
       "      <td>0.177713</td>\n",
       "    </tr>\n",
       "    <tr>\n",
       "      <th>think</th>\n",
       "      <td>0.197691</td>\n",
       "      <td>0.311679</td>\n",
       "    </tr>\n",
       "    <tr>\n",
       "      <th>anyone</th>\n",
       "      <td>0.186460</td>\n",
       "      <td>0.198424</td>\n",
       "    </tr>\n",
       "    <tr>\n",
       "      <th>back</th>\n",
       "      <td>0.181988</td>\n",
       "      <td>0.206102</td>\n",
       "    </tr>\n",
       "    <tr>\n",
       "      <th>felt</th>\n",
       "      <td>0.181468</td>\n",
       "      <td>0.193574</td>\n",
       "    </tr>\n",
       "  </tbody>\n",
       "</table>\n",
       "</div>"
      ],
      "text/plain": [
       "target_          0.0       1.0\n",
       "meditation  1.155886  0.108507\n",
       "feel        0.382696  0.513740\n",
       "time        0.364705  0.446858\n",
       "mind        0.336210  0.275207\n",
       "meditating  0.314372  0.032734\n",
       "thoughts    0.285046  0.181754\n",
       "one         0.272879  0.589210\n",
       "ive         0.263831  0.206203\n",
       "know        0.258007  0.521722\n",
       "day         0.249688  0.227622\n",
       "life        0.246464  0.708325\n",
       "meditate    0.245008  0.033037\n",
       "body        0.207675  0.195393\n",
       "experience  0.201123  0.184078\n",
       "practice    0.200291  0.051020\n",
       "feeling     0.199771  0.177713\n",
       "think       0.197691  0.311679\n",
       "anyone      0.186460  0.198424\n",
       "back        0.181988  0.206102\n",
       "felt        0.181468  0.193574"
      ]
     },
     "execution_count": 1174,
     "metadata": {},
     "output_type": "execute_result"
    }
   ],
   "source": [
    "term_spm.groupby('target_').mean().T.sort_values(0, ascending=False).head(20)"
   ]
  },
  {
   "cell_type": "markdown",
   "metadata": {},
   "source": [
    "### Display the top 20 terms for Spirituality"
   ]
  },
  {
   "cell_type": "code",
   "execution_count": 1175,
   "metadata": {},
   "outputs": [
    {
     "data": {
      "text/html": [
       "<div>\n",
       "<style scoped>\n",
       "    .dataframe tbody tr th:only-of-type {\n",
       "        vertical-align: middle;\n",
       "    }\n",
       "\n",
       "    .dataframe tbody tr th {\n",
       "        vertical-align: top;\n",
       "    }\n",
       "\n",
       "    .dataframe thead th {\n",
       "        text-align: right;\n",
       "    }\n",
       "</style>\n",
       "<table border=\"1\" class=\"dataframe\">\n",
       "  <thead>\n",
       "    <tr style=\"text-align: right;\">\n",
       "      <th>target_</th>\n",
       "      <th>0.0</th>\n",
       "      <th>1.0</th>\n",
       "    </tr>\n",
       "  </thead>\n",
       "  <tbody>\n",
       "    <tr>\n",
       "      <th>life</th>\n",
       "      <td>0.246464</td>\n",
       "      <td>0.708325</td>\n",
       "    </tr>\n",
       "    <tr>\n",
       "      <th>one</th>\n",
       "      <td>0.272879</td>\n",
       "      <td>0.589210</td>\n",
       "    </tr>\n",
       "    <tr>\n",
       "      <th>know</th>\n",
       "      <td>0.258007</td>\n",
       "      <td>0.521722</td>\n",
       "    </tr>\n",
       "    <tr>\n",
       "      <th>feel</th>\n",
       "      <td>0.382696</td>\n",
       "      <td>0.513740</td>\n",
       "    </tr>\n",
       "    <tr>\n",
       "      <th>time</th>\n",
       "      <td>0.364705</td>\n",
       "      <td>0.446858</td>\n",
       "    </tr>\n",
       "    <tr>\n",
       "      <th>spiritual</th>\n",
       "      <td>0.047109</td>\n",
       "      <td>0.388664</td>\n",
       "    </tr>\n",
       "    <tr>\n",
       "      <th>love</th>\n",
       "      <td>0.106697</td>\n",
       "      <td>0.385937</td>\n",
       "    </tr>\n",
       "    <tr>\n",
       "      <th>things</th>\n",
       "      <td>0.169405</td>\n",
       "      <td>0.360780</td>\n",
       "    </tr>\n",
       "    <tr>\n",
       "      <th>want</th>\n",
       "      <td>0.176269</td>\n",
       "      <td>0.334108</td>\n",
       "    </tr>\n",
       "    <tr>\n",
       "      <th>god</th>\n",
       "      <td>0.019967</td>\n",
       "      <td>0.319155</td>\n",
       "    </tr>\n",
       "    <tr>\n",
       "      <th>think</th>\n",
       "      <td>0.197691</td>\n",
       "      <td>0.311679</td>\n",
       "    </tr>\n",
       "    <tr>\n",
       "      <th>world</th>\n",
       "      <td>0.073523</td>\n",
       "      <td>0.295514</td>\n",
       "    </tr>\n",
       "    <tr>\n",
       "      <th>way</th>\n",
       "      <td>0.180220</td>\n",
       "      <td>0.293696</td>\n",
       "    </tr>\n",
       "    <tr>\n",
       "      <th>see</th>\n",
       "      <td>0.138207</td>\n",
       "      <td>0.292079</td>\n",
       "    </tr>\n",
       "    <tr>\n",
       "      <th>mind</th>\n",
       "      <td>0.336210</td>\n",
       "      <td>0.275207</td>\n",
       "    </tr>\n",
       "    <tr>\n",
       "      <th>us</th>\n",
       "      <td>0.066972</td>\n",
       "      <td>0.260053</td>\n",
       "    </tr>\n",
       "    <tr>\n",
       "      <th>self</th>\n",
       "      <td>0.119176</td>\n",
       "      <td>0.247323</td>\n",
       "    </tr>\n",
       "    <tr>\n",
       "      <th>much</th>\n",
       "      <td>0.176165</td>\n",
       "      <td>0.237422</td>\n",
       "    </tr>\n",
       "    <tr>\n",
       "      <th>need</th>\n",
       "      <td>0.106489</td>\n",
       "      <td>0.236411</td>\n",
       "    </tr>\n",
       "    <tr>\n",
       "      <th>could</th>\n",
       "      <td>0.148918</td>\n",
       "      <td>0.231259</td>\n",
       "    </tr>\n",
       "  </tbody>\n",
       "</table>\n",
       "</div>"
      ],
      "text/plain": [
       "target_         0.0       1.0\n",
       "life       0.246464  0.708325\n",
       "one        0.272879  0.589210\n",
       "know       0.258007  0.521722\n",
       "feel       0.382696  0.513740\n",
       "time       0.364705  0.446858\n",
       "spiritual  0.047109  0.388664\n",
       "love       0.106697  0.385937\n",
       "things     0.169405  0.360780\n",
       "want       0.176269  0.334108\n",
       "god        0.019967  0.319155\n",
       "think      0.197691  0.311679\n",
       "world      0.073523  0.295514\n",
       "way        0.180220  0.293696\n",
       "see        0.138207  0.292079\n",
       "mind       0.336210  0.275207\n",
       "us         0.066972  0.260053\n",
       "self       0.119176  0.247323\n",
       "much       0.176165  0.237422\n",
       "need       0.106489  0.236411\n",
       "could      0.148918  0.231259"
      ]
     },
     "execution_count": 1175,
     "metadata": {},
     "output_type": "execute_result"
    }
   ],
   "source": [
    "term_spm.groupby('target_').mean().T.sort_values(1, ascending=False).head(20)"
   ]
  },
  {
   "cell_type": "markdown",
   "metadata": {},
   "source": [
    "### Check to see what the top overlapping terms are between Meditation and Spirituality"
   ]
  },
  {
   "cell_type": "code",
   "execution_count": 1176,
   "metadata": {},
   "outputs": [],
   "source": [
    "top_words_meditation = list(term_spm.groupby('target_').\n",
    "     mean().T.sort_values(0, ascending=False).head(20).index)\n",
    "\n",
    "top_words_spirituality = list(term_spm.groupby('target_').\n",
    "     mean().T.sort_values(1, ascending=False).head(20).index)"
   ]
  },
  {
   "cell_type": "code",
   "execution_count": 1177,
   "metadata": {},
   "outputs": [],
   "source": [
    "top_words_overlap = [spir for spir in top_words_spirituality if spir in top_words_meditation]"
   ]
  },
  {
   "cell_type": "code",
   "execution_count": 1178,
   "metadata": {},
   "outputs": [
    {
     "data": {
      "text/plain": [
       "['life', 'one', 'know', 'feel', 'time', 'think', 'mind']"
      ]
     },
     "execution_count": 1178,
     "metadata": {},
     "output_type": "execute_result"
    }
   ],
   "source": [
    "top_words_overlap"
   ]
  },
  {
   "cell_type": "markdown",
   "metadata": {},
   "source": [
    "### Create a sentiment analyzer to evaluate sentiment of the meditation and spirituality subreddits\n",
    "***\n",
    "### Instantiate the sentiment analyzer"
   ]
  },
  {
   "cell_type": "code",
   "execution_count": 1224,
   "metadata": {},
   "outputs": [],
   "source": [
    "sia = SentimentIntensityAnalyzer()"
   ]
  },
  {
   "cell_type": "markdown",
   "metadata": {},
   "source": [
    "### Write a function to get the compound sentiment scores for a post"
   ]
  },
  {
   "cell_type": "code",
   "execution_count": 1225,
   "metadata": {},
   "outputs": [],
   "source": [
    "def get_compound_sentiment(post):\n",
    "    return sia.polarity_scores(post)['compound']"
   ]
  },
  {
   "cell_type": "code",
   "execution_count": 1226,
   "metadata": {},
   "outputs": [
    {
     "data": {
      "text/html": [
       "<div>\n",
       "<style scoped>\n",
       "    .dataframe tbody tr th:only-of-type {\n",
       "        vertical-align: middle;\n",
       "    }\n",
       "\n",
       "    .dataframe tbody tr th {\n",
       "        vertical-align: top;\n",
       "    }\n",
       "\n",
       "    .dataframe thead th {\n",
       "        text-align: right;\n",
       "    }\n",
       "</style>\n",
       "<table border=\"1\" class=\"dataframe\">\n",
       "  <thead>\n",
       "    <tr style=\"text-align: right;\">\n",
       "      <th></th>\n",
       "      <th>text</th>\n",
       "      <th>class_</th>\n",
       "      <th>char_count</th>\n",
       "      <th>word_count</th>\n",
       "    </tr>\n",
       "  </thead>\n",
       "  <tbody>\n",
       "    <tr>\n",
       "      <th>0</th>\n",
       "      <td>Soul TribeJust trying to find my spiritual fam...</td>\n",
       "      <td>1</td>\n",
       "      <td>65</td>\n",
       "      <td>11</td>\n",
       "    </tr>\n",
       "    <tr>\n",
       "      <th>1</th>\n",
       "      <td>THE JOURNEY TO LIFES RICHES BEGAN BY MAKING YO...</td>\n",
       "      <td>1</td>\n",
       "      <td>134</td>\n",
       "      <td>22</td>\n",
       "    </tr>\n",
       "    <tr>\n",
       "      <th>2</th>\n",
       "      <td>Spiritual awakening  amp  relationshipsHi  Im ...</td>\n",
       "      <td>1</td>\n",
       "      <td>953</td>\n",
       "      <td>174</td>\n",
       "    </tr>\n",
       "    <tr>\n",
       "      <th>3</th>\n",
       "      <td>SpartacusIn one of my visions I am in a Ludus ...</td>\n",
       "      <td>1</td>\n",
       "      <td>2133</td>\n",
       "      <td>371</td>\n",
       "    </tr>\n",
       "    <tr>\n",
       "      <th>4</th>\n",
       "      <td>Mixing  dreams  with  realities  I often find ...</td>\n",
       "      <td>1</td>\n",
       "      <td>314</td>\n",
       "      <td>56</td>\n",
       "    </tr>\n",
       "  </tbody>\n",
       "</table>\n",
       "</div>"
      ],
      "text/plain": [
       "                                                text  class_  char_count  \\\n",
       "0  Soul TribeJust trying to find my spiritual fam...       1          65   \n",
       "1  THE JOURNEY TO LIFES RICHES BEGAN BY MAKING YO...       1         134   \n",
       "2  Spiritual awakening  amp  relationshipsHi  Im ...       1         953   \n",
       "3  SpartacusIn one of my visions I am in a Ludus ...       1        2133   \n",
       "4  Mixing  dreams  with  realities  I often find ...       1         314   \n",
       "\n",
       "   word_count  \n",
       "0          11  \n",
       "1          22  \n",
       "2         174  \n",
       "3         371  \n",
       "4          56  "
      ]
     },
     "execution_count": 1226,
     "metadata": {},
     "output_type": "execute_result"
    }
   ],
   "source": [
    "spm.head()"
   ]
  },
  {
   "cell_type": "code",
   "execution_count": 1227,
   "metadata": {},
   "outputs": [],
   "source": [
    "spm['sentiment'] = spm['text'].apply(get_compound_sentiment)"
   ]
  },
  {
   "cell_type": "code",
   "execution_count": 1228,
   "metadata": {},
   "outputs": [
    {
     "data": {
      "text/html": [
       "<div>\n",
       "<style scoped>\n",
       "    .dataframe tbody tr th:only-of-type {\n",
       "        vertical-align: middle;\n",
       "    }\n",
       "\n",
       "    .dataframe tbody tr th {\n",
       "        vertical-align: top;\n",
       "    }\n",
       "\n",
       "    .dataframe thead th {\n",
       "        text-align: right;\n",
       "    }\n",
       "</style>\n",
       "<table border=\"1\" class=\"dataframe\">\n",
       "  <thead>\n",
       "    <tr style=\"text-align: right;\">\n",
       "      <th></th>\n",
       "      <th>text</th>\n",
       "      <th>class_</th>\n",
       "      <th>char_count</th>\n",
       "      <th>word_count</th>\n",
       "      <th>sentiment</th>\n",
       "    </tr>\n",
       "  </thead>\n",
       "  <tbody>\n",
       "    <tr>\n",
       "      <th>0</th>\n",
       "      <td>Soul TribeJust trying to find my spiritual fam...</td>\n",
       "      <td>1</td>\n",
       "      <td>65</td>\n",
       "      <td>11</td>\n",
       "      <td>0.0000</td>\n",
       "    </tr>\n",
       "    <tr>\n",
       "      <th>1</th>\n",
       "      <td>THE JOURNEY TO LIFES RICHES BEGAN BY MAKING YO...</td>\n",
       "      <td>1</td>\n",
       "      <td>134</td>\n",
       "      <td>22</td>\n",
       "      <td>0.8964</td>\n",
       "    </tr>\n",
       "    <tr>\n",
       "      <th>2</th>\n",
       "      <td>Spiritual awakening  amp  relationshipsHi  Im ...</td>\n",
       "      <td>1</td>\n",
       "      <td>953</td>\n",
       "      <td>174</td>\n",
       "      <td>-0.5804</td>\n",
       "    </tr>\n",
       "    <tr>\n",
       "      <th>3</th>\n",
       "      <td>SpartacusIn one of my visions I am in a Ludus ...</td>\n",
       "      <td>1</td>\n",
       "      <td>2133</td>\n",
       "      <td>371</td>\n",
       "      <td>0.7587</td>\n",
       "    </tr>\n",
       "    <tr>\n",
       "      <th>4</th>\n",
       "      <td>Mixing  dreams  with  realities  I often find ...</td>\n",
       "      <td>1</td>\n",
       "      <td>314</td>\n",
       "      <td>56</td>\n",
       "      <td>0.6705</td>\n",
       "    </tr>\n",
       "  </tbody>\n",
       "</table>\n",
       "</div>"
      ],
      "text/plain": [
       "                                                text  class_  char_count  \\\n",
       "0  Soul TribeJust trying to find my spiritual fam...       1          65   \n",
       "1  THE JOURNEY TO LIFES RICHES BEGAN BY MAKING YO...       1         134   \n",
       "2  Spiritual awakening  amp  relationshipsHi  Im ...       1         953   \n",
       "3  SpartacusIn one of my visions I am in a Ludus ...       1        2133   \n",
       "4  Mixing  dreams  with  realities  I often find ...       1         314   \n",
       "\n",
       "   word_count  sentiment  \n",
       "0          11     0.0000  \n",
       "1          22     0.8964  \n",
       "2         174    -0.5804  \n",
       "3         371     0.7587  \n",
       "4          56     0.6705  "
      ]
     },
     "execution_count": 1228,
     "metadata": {},
     "output_type": "execute_result"
    }
   ],
   "source": [
    "spm.head()"
   ]
  },
  {
   "cell_type": "markdown",
   "metadata": {},
   "source": [
    "### Look at the distribution of the composite sentiment score"
   ]
  },
  {
   "cell_type": "code",
   "execution_count": 1236,
   "metadata": {},
   "outputs": [
    {
     "data": {
      "text/plain": [
       "class_\n",
       "0    AxesSubplot(0.125,0.125;0.775x0.755)\n",
       "1    AxesSubplot(0.125,0.125;0.775x0.755)\n",
       "Name: sentiment, dtype: object"
      ]
     },
     "execution_count": 1236,
     "metadata": {},
     "output_type": "execute_result"
    },
    {
     "data": {
      "image/png": "[encoded data removed]",
      "text/plain": [
       "<Figure size 432x288 with 1 Axes>"
      ]
     },
     "metadata": {
      "needs_background": "light"
     },
     "output_type": "display_data"
    }
   ],
   "source": [
    "spm.groupby('class_')['sentiment'].plot(kind = 'hist')"
   ]
  },
  {
   "cell_type": "markdown",
   "metadata": {},
   "source": [
    "### Mostly neutral to positive sentitment posts for meditation and spirituality\n",
    "***\n",
    "### Save spm to csv to open in the model notebooks"
   ]
  },
  {
   "cell_type": "code",
   "execution_count": 1238,
   "metadata": {},
   "outputs": [],
   "source": [
    "spm.to_csv('../data/spm.csv', index = False)"
   ]
  }
 ],
 "metadata": {
  "kernelspec": {
   "display_name": "Python 3",
   "language": "python",
   "name": "python3"
  },
  "language_info": {
   "codemirror_mode": {
    "name": "ipython",
    "version": 3
   },
   "file_extension": ".py",
   "mimetype": "text/x-python",
   "name": "python",
   "nbconvert_exporter": "python",
   "pygments_lexer": "ipython3",
   "version": "3.7.4"
  }
 },
 "nbformat": 4,
 "nbformat_minor": 4
}
